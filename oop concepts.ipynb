{
 "cells": [
  {
   "cell_type": "code",
   "execution_count": 34,
   "id": "2534232c",
   "metadata": {},
   "outputs": [
    {
     "name": "stdout",
     "output_type": "stream",
     "text": [
      "9\n",
      "49\n",
      "72\n",
      "7\n",
      "2\n"
     ]
    }
   ],
   "source": [
    "class Student:\n",
    "    def __init__(self,num):\n",
    "        self.num = num\n",
    "    def getnum(self):\n",
    "        return self.num\n",
    "    def add(self,n2):\n",
    "        return self.num + n2.num\n",
    "\n",
    "    def raisedTo(self, n2):\n",
    "        return self.num**n2.num\n",
    "    def concat(self,n2):\n",
    "        return str(self.num) + str (n2.num)\n",
    "    def max(self,n2):\n",
    "        return max(self.num,n2.num)\n",
    "    def min(self , n2):\n",
    "        return min(self.num, n2.num)\n",
    "n1=Student(7)\n",
    "n2 = Student(2)\n",
    "n3=n1.add(n2)\n",
    "n4=n1.raisedTo(n2)\n",
    "n5=n1.concat(n2)\n",
    "n6 = n1.max(n2)\n",
    "n7 = n1.min(n2)\n",
    "print(n3)\n",
    "print(n4)\n",
    "print(n5)\n",
    "print(n6)\n",
    "print(n7)"
   ]
  },
  {
   "cell_type": "code",
   "execution_count": null,
   "id": "ffcbf48b",
   "metadata": {},
   "outputs": [],
   "source": [
    "data=[(12345,\"Diksha\",\"Diksha r@nuv.ac.in\"),(45667,\"Jiva\", \"Jiva@nuv.ac.in\"),(16789,\"Ronit\",\"Ronit@nuv.ac.in\"),(69433,\"Heena\",\"Heena@nuv.ac.in\")]"
   ]
  },
  {
   "cell_type": "code",
   "execution_count": null,
   "id": "fd1d5e26",
   "metadata": {},
   "outputs": [],
   "source": [
    "n =int(input(\"enter id: \"))\n",
    "for i in data:\n",
    "    print(i[0])\n",
    "    if i[0]==n:\n",
    "        print(i)"
   ]
  }
 ],
 "metadata": {
  "kernelspec": {
   "display_name": "Python 3 (ipykernel)",
   "language": "python",
   "name": "python3"
  },
  "language_info": {
   "codemirror_mode": {
    "name": "ipython",
    "version": 3
   },
   "file_extension": ".py",
   "mimetype": "text/x-python",
   "name": "python",
   "nbconvert_exporter": "python",
   "pygments_lexer": "ipython3",
   "version": "3.11.5"
  }
 },
 "nbformat": 4,
 "nbformat_minor": 5
}
