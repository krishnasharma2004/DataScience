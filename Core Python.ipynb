{
 "cells": [
  {
   "cell_type": "code",
   "execution_count": 4,
   "id": "e4e7adf5",
   "metadata": {},
   "outputs": [
    {
     "name": "stdout",
     "output_type": "stream",
     "text": [
      "Enter the coefficient a: 2\n",
      "Enter the coefficient b: 4\n",
      "Enter the coefficient c: 6\n",
      "The solutions are: ((-1+1.4142135623730951j), (-1-1.4142135623730951j))\n"
     ]
    }
   ],
   "source": [
    "import cmath\n",
    "\n",
    "def solve_quadratic_equation(a, b, c):\n",
    " \n",
    "    discriminant = cmath.sqrt(b**2 - 4*a*c)\n",
    "    \n",
    "   \n",
    "    root1 = (-b + discriminant) / (2*a)\n",
    "    root2 = (-b - discriminant) / (2*a)\n",
    "    \n",
    "    return root1, root2\n",
    "\n",
    "\n",
    "a = float(input(\"Enter the coefficient a: \"))\n",
    "b = float(input(\"Enter the coefficient b: \"))\n",
    "c = float(input(\"Enter the coefficient c: \"))\n",
    "\n",
    "if a != 0:\n",
    "\n",
    "    solutions = solve_quadratic_equation(a, b, c)\n",
    "\n",
    "\n",
    "    print(\"The solutions are:\", solutions)\n",
    "else:\n",
    "    print(\"The coefficient 'a' cannot be zero for a quadratic equation.\")"
   ]
  },
  {
   "cell_type": "code",
   "execution_count": 5,
   "id": "8365a3a0",
   "metadata": {},
   "outputs": [
    {
     "name": "stdout",
     "output_type": "stream",
     "text": [
      "Enter the start of the interval: 1\n",
      "Enter the end of the interval: 17\n",
      "Prime numbers between 1 and 17:\n",
      "2 3 5 7 11 13 17 "
     ]
    }
   ],
   "source": [
    "def is_prime(number):\n",
    "    \"\"\"Check if a number is prime.\"\"\"\n",
    "    if number < 2:\n",
    "        return False\n",
    "    for i in range(2, int(number**0.5) + 1):\n",
    "        if number % i == 0:\n",
    "            return False\n",
    "    return True\n",
    "\n",
    "def print_prime_numbers_in_interval(start, end):\n",
    "    \"\"\"Print all prime numbers in the given interval.\"\"\"\n",
    "    print(f\"Prime numbers between {start} and {end}:\")\n",
    "    for num in range(start, end + 1):\n",
    "        if is_prime(num):\n",
    "            print(num, end=\" \")\n",
    "\n",
    "\n",
    "start = int(input(\"Enter the start of the interval: \"))\n",
    "end = int(input(\"Enter the end of the interval: \"))\n",
    "\n",
    "\n",
    "print_prime_numbers_in_interval(start, end)\n"
   ]
  },
  {
   "cell_type": "code",
   "execution_count": 11,
   "id": "9f15540a",
   "metadata": {},
   "outputs": [
    {
     "name": "stdout",
     "output_type": "stream",
     "text": [
      "Enter the number for the multiplication table: 3\n",
      "Multiplication table for 3:\n",
      "3 x 1 = 3\n",
      "3 x 2 = 6\n",
      "3 x 3 = 9\n",
      "3 x 4 = 12\n",
      "3 x 5 = 15\n",
      "3 x 6 = 18\n",
      "3 x 7 = 21\n",
      "3 x 8 = 24\n",
      "3 x 9 = 27\n",
      "3 x 10 = 30\n"
     ]
    }
   ],
   "source": [
    "def display_multiplication_table(number):\n",
    "    print(f\"Multiplication table for {number}:\")\n",
    "    for i in range(1, 11):\n",
    "        result = number * i\n",
    "        print(f\"{number} x {i} = {result}\")\n",
    "\n",
    "\n",
    "number = int(input(\"Enter the number for the multiplication table: \"))\n",
    "\n",
    "\n",
    "display_multiplication_table(number)"
   ]
  },
  {
   "cell_type": "code",
   "execution_count": 8,
   "id": "d7e25dba",
   "metadata": {},
   "outputs": [
    {
     "name": "stdout",
     "output_type": "stream",
     "text": [
      "Enter the number of terms for the Fibonacci sequence: 7\n",
      "Fibonacci sequence:\n",
      "[0, 1, 1, 2, 3, 5, 8]\n"
     ]
    }
   ],
   "source": [
    "def generate_fibonacci_sequence(n):\n",
    "    fibonacci_sequence = [0, 1]\n",
    "\n",
    "    for i in range(2, n):\n",
    "        next_term = fibonacci_sequence[-1] + fibonacci_sequence[-2]\n",
    "        fibonacci_sequence.append(next_term)\n",
    "\n",
    "    return fibonacci_sequence\n",
    "\n",
    "n = int(input(\"Enter the number of terms for the Fibonacci sequence: \"))\n",
    "\n",
    "\n",
    "fibonacci_sequence = generate_fibonacci_sequence(n)\n",
    "print(\"Fibonacci sequence:\")\n",
    "print(fibonacci_sequence)\n"
   ]
  },
  {
   "cell_type": "code",
   "execution_count": 10,
   "id": "146e490b",
   "metadata": {},
   "outputs": [
    {
     "name": "stdout",
     "output_type": "stream",
     "text": [
      "Enter a number to check for Armstrong property: 153\n",
      "153 is an Armstrong number.\n"
     ]
    }
   ],
   "source": [
    "def is_armstrong_number(number):\n",
    "    \n",
    "    num_str = str(number)\n",
    "    num_digits = len(num_str)\n",
    "    \n",
    "  \n",
    "    armstrong_sum = sum(int(digit) ** num_digits for digit in num_str)\n",
    "    \n",
    "    return armstrong_sum == number\n",
    "\n",
    "\n",
    "number = int(input(\"Enter a number to check for Armstrong property: \"))\n",
    "\n",
    "\n",
    "if is_armstrong_number(number):\n",
    "    print(f\"{number} is an Armstrong number.\")\n",
    "else:\n",
    "    print(f\"{number} is not an Armstrong number.\")"
   ]
  },
  {
   "cell_type": "code",
   "execution_count": null,
   "id": "427b9950",
   "metadata": {},
   "outputs": [],
   "source": []
  }
 ],
 "metadata": {
  "kernelspec": {
   "display_name": "Python 3 (ipykernel)",
   "language": "python",
   "name": "python3"
  },
  "language_info": {
   "codemirror_mode": {
    "name": "ipython",
    "version": 3
   },
   "file_extension": ".py",
   "mimetype": "text/x-python",
   "name": "python",
   "nbconvert_exporter": "python",
   "pygments_lexer": "ipython3",
   "version": "3.11.5"
  }
 },
 "nbformat": 4,
 "nbformat_minor": 5
}
